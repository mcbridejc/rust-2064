{
 "cells": [
  {
   "cell_type": "code",
   "execution_count": 24,
   "metadata": {},
   "outputs": [],
   "source": [
    "%matplotlib widget\n",
    "import matplotlib.pyplot as plt\n",
    "import numpy as np\n",
    "import yaml\n",
    "\n",
    "import plotly.graph_objects as go\n"
   ]
  },
  {
   "cell_type": "code",
   "execution_count": 37,
   "metadata": {},
   "outputs": [],
   "source": [
    "def bins(n):\n",
    "    bins = []\n",
    "    for i in range(n):\n",
    "        bins.append(2**(i+1))\n",
    "    return bins\n",
    "\n",
    "def compute_cdf(a):\n",
    "    x = np.sort(a);\n",
    "    p = np.array(range(len(a)))/float(len(a)-1)\n",
    "    return x, p"
   ]
  },
  {
   "cell_type": "code",
   "execution_count": 49,
   "metadata": {},
   "outputs": [],
   "source": [
    "# Series of scores from my games.\n",
    "jeff_scores = np.array([30080, 2460, 7396, 8280, 26420, 26304, 9836, 28012, 5260, 16540, 19148, 20440, 15300, 8156, 7096, 28248, 27268, 32184, 25852, 32324, 32768])\n",
    "\n",
    "jeff_cdf_x, jeff_cdf_y = compute_cdf(jeff_scores)"
   ]
  },
  {
   "cell_type": "code",
   "execution_count": 83,
   "metadata": {},
   "outputs": [
    {
     "name": "stderr",
     "output_type": "stream",
     "text": [
      "/usr/local/Cellar/python/3.7.4/Frameworks/Python.framework/Versions/3.7/lib/python3.7/site-packages/ipykernel_launcher.py:2: YAMLLoadWarning:\n",
      "\n",
      "calling yaml.load() without Loader=... is deprecated, as the default Loader is unsafe. Please read https://msg.pyyaml.org/load for full details.\n",
      "\n"
     ]
    }
   ],
   "source": [
    "with open('report.yml') as f:\n",
    "    data = yaml.load(f.read())\n",
    "    \n",
    "# # Cheat and read lookahead 5 from old report (it's slow to run)\n",
    "# with open('report_1.yml') as f:\n",
    "#     tmp = yaml.load(f.read())\n",
    "#     data['naive_lookahead5'] = tmp['naive_lookahead5']"
   ]
  },
  {
   "cell_type": "code",
   "execution_count": 87,
   "metadata": {},
   "outputs": [
    {
     "name": "stderr",
     "output_type": "stream",
     "text": [
      "/usr/local/Cellar/python/3.7.4/Frameworks/Python.framework/Versions/3.7/lib/python3.7/site-packages/ipykernel_launcher.py:7: RuntimeWarning:\n",
      "\n",
      "More than 20 figures have been opened. Figures created through the pyplot interface (`matplotlib.pyplot.figure`) are retained until explicitly closed and may consume too much memory. (To control this warning, see the rcParam `figure.max_open_warning`).\n",
      "\n"
     ]
    },
    {
     "data": {
      "application/vnd.jupyter.widget-view+json": {
       "model_id": "ac82cb377a1b41a0874bf244d9576834",
       "version_major": 2,
       "version_minor": 0
      },
      "text/plain": [
       "Canvas(toolbar=Toolbar(toolitems=[('Home', 'Reset original view', 'home', 'home'), ('Back', 'Back to previous …"
      ]
     },
     "metadata": {},
     "output_type": "display_data"
    },
    {
     "data": {
      "text/plain": [
       "<matplotlib.legend.Legend at 0x12e495a10>"
      ]
     },
     "execution_count": 87,
     "metadata": {},
     "output_type": "execute_result"
    }
   ],
   "source": [
    "def sortAlg(alg):\n",
    "    # Weight by the average of the largest block\n",
    "    return np.mean(np.array(bins(len(alg['largest_hist']))) * np.array(alg['largest_hist']))\n",
    "\n",
    "sorted_names = sorted(data.keys(), key=lambda n: sortAlg(data[n]))\n",
    "\n",
    "plt.figure()\n",
    "for name in sorted_names:\n",
    "    d = data[name]\n",
    "    plt.plot(d['score_cdf_x'], 1-np.array(d['score_cdf_y']), label=name)\n",
    "plt.plot(jeff_cdf_x, 1-jeff_cdf_y, '-^', label='Jeff')\n",
    "plt.title('Final Score CDF')\n",
    "plt.legend()"
   ]
  },
  {
   "cell_type": "code",
   "execution_count": 85,
   "metadata": {},
   "outputs": [
    {
     "name": "stdout",
     "output_type": "stream",
     "text": [
      "{'lookahead1': array([ 0.,  0.,  0.,  0.,  1.,  4., 40., 44., 11.,  0.,  0.]), 'lookahead3': array([ 0. ,  0. ,  0. ,  0. ,  0. ,  0. ,  0.5,  8. , 53.5, 38. ,  0. ]), 'lookahead5': array([ 0. ,  0. ,  0. ,  0. ,  0. ,  0. ,  0. ,  1.5, 37.5, 56. ,  5. ]), 'lookaheadsorted1': array([ 0. ,  0. ,  0. ,  0. ,  0. ,  2. , 14.5, 51.5, 31.5,  0.5,  0. ]), 'lookaheadsorted3': array([ 0. ,  0. ,  0. ,  0. ,  0. ,  0. ,  0. ,  2. , 20.5, 61. , 16.5]), 'lookaheadsorted5': array([ 0. ,  0. ,  0. ,  0. ,  0. ,  0. ,  0. ,  0. , 11.5, 52. , 36.5]), 'max_free_space': array([ 0. ,  0. ,  0. ,  0. ,  0. ,  3.5, 34. , 48. , 14.5,  0. ,  0. ]), 'max_free_space_3dir': array([ 0. ,  0. ,  0. ,  0. ,  0. ,  4. , 43. , 40. , 12.5,  0.5,  0. ]), 'random': array([ 0. ,  0. ,  0. ,  1. ,  5. , 33.5, 52.5,  8. ,  0. ,  0. ,  0. ]), 'random_3dir': array([ 0. ,  0. ,  0.5,  0.5,  6.5, 26.5, 44.5, 20. ,  1.5,  0. ,  0. ])}\n",
      "['g2', 'g4', 'g8', 'g16', 'g32', 'g64', 'g128', 'g256', 'g512', 'g1024', 'g2048']\n"
     ]
    },
    {
     "data": {
      "application/vnd.jupyter.widget-view+json": {
       "model_id": "8af6843638fb422a9c981d334902c5f4",
       "version_major": 2,
       "version_minor": 0
      },
      "text/plain": [
       "FigureWidget({\n",
       "    'data': [{'name': 'random',\n",
       "              'type': 'bar',\n",
       "              'uid': '214fb3e5-8e0…"
      ]
     },
     "metadata": {},
     "output_type": "display_data"
    }
   ],
   "source": [
    "\n",
    "\n",
    "\n",
    "bar_values = { k: d['largest_hist'] for k, d in data.items() }\n",
    "max_size = max([len(x) for x in bar_values.values()])\n",
    "\n",
    "# Pad any short arrays with zeros, and normalize\n",
    "for k in bar_values.keys():\n",
    "    missing = max_size - len(bar_values[k])\n",
    "    if missing > 0:\n",
    "        bar_values[k] += [0] * missing\n",
    "    \n",
    "    bar_values[k] = np.array(bar_values[k], dtype=np.float)\n",
    "    bar_values[k] *= 100 / bar_values[k].sum()\n",
    "    \n",
    "print(bar_values)\n",
    "\n",
    "labels = [\"g\"+str(x) for x in bins(max_size)]\n",
    "\n",
    "print(labels)\n",
    "\n",
    "fig = go.FigureWidget(data=[\n",
    "    go.Bar(name=name, x=labels, y=bar_values[name]) \n",
    "    for name in sorted_names\n",
    "    ])\n",
    "# Change the bar mode\n",
    "fig.update_layout(barmode='group')\n",
    "#fig.show()\n",
    "# for name, d in data.items():\n",
    "#     plt.hist(d['largest_hist'], bins(len(d['largest_hist'])), label=name)\n",
    "    \n",
    "# plt.legend()"
   ]
  },
  {
   "cell_type": "code",
   "execution_count": null,
   "metadata": {},
   "outputs": [],
   "source": []
  }
 ],
 "metadata": {
  "kernelspec": {
   "display_name": "Python 3",
   "language": "python",
   "name": "python3"
  },
  "language_info": {
   "codemirror_mode": {
    "name": "ipython",
    "version": 3
   },
   "file_extension": ".py",
   "mimetype": "text/x-python",
   "name": "python",
   "nbconvert_exporter": "python",
   "pygments_lexer": "ipython3",
   "version": "3.7.4"
  }
 },
 "nbformat": 4,
 "nbformat_minor": 4
}
