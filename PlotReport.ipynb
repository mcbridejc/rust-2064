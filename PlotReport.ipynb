{
 "cells": [
  {
   "cell_type": "code",
   "execution_count": 13,
   "metadata": {},
   "outputs": [],
   "source": [
    "%matplotlib widget\n",
    "import matplotlib.pyplot as plt\n",
    "import numpy as np\n",
    "import yaml\n",
    "\n",
    "import plotly.graph_objects as go\n"
   ]
  },
  {
   "cell_type": "code",
   "execution_count": 17,
   "metadata": {},
   "outputs": [
    {
     "name": "stderr",
     "output_type": "stream",
     "text": [
      "/usr/local/Cellar/python/3.7.4/Frameworks/Python.framework/Versions/3.7/lib/python3.7/site-packages/ipykernel_launcher.py:2: YAMLLoadWarning:\n",
      "\n",
      "calling yaml.load() without Loader=... is deprecated, as the default Loader is unsafe. Please read https://msg.pyyaml.org/load for full details.\n",
      "\n"
     ]
    }
   ],
   "source": [
    "with open('report.yml') as f:\n",
    "    data = yaml.load(f.read())"
   ]
  },
  {
   "cell_type": "code",
   "execution_count": 18,
   "metadata": {},
   "outputs": [
    {
     "data": {
      "application/vnd.jupyter.widget-view+json": {
       "model_id": "428786114792410b996cd0a540de4895",
       "version_major": 2,
       "version_minor": 0
      },
      "text/plain": [
       "Canvas(toolbar=Toolbar(toolitems=[('Home', 'Reset original view', 'home', 'home'), ('Back', 'Back to previous …"
      ]
     },
     "metadata": {},
     "output_type": "display_data"
    },
    {
     "data": {
      "text/plain": [
       "<matplotlib.legend.Legend at 0x11c2985d0>"
      ]
     },
     "execution_count": 18,
     "metadata": {},
     "output_type": "execute_result"
    }
   ],
   "source": [
    "plt.figure()\n",
    "for name, d in data.items():\n",
    "    plt.plot(d['score_cdf_x'], d['score_cdf_y'], label=name)\n",
    "plt.title('Final Score CDF')\n",
    "plt.legend()"
   ]
  },
  {
   "cell_type": "code",
   "execution_count": 19,
   "metadata": {},
   "outputs": [
    {
     "name": "stdout",
     "output_type": "stream",
     "text": [
      "{'max_free_space': array([ 0.        ,  0.        ,  0.        ,  0.        ,  0.4       ,\n",
      "        5.1       , 34.26666667, 47.2       , 12.83333333,  0.2       ]), 'max_free_space_3dir': array([ 0.        ,  0.        ,  0.        ,  0.        ,  0.26666667,\n",
      "        5.96666667, 33.3       , 44.83333333, 15.43333333,  0.2       ]), 'random': array([0.00000000e+00, 0.00000000e+00, 0.00000000e+00, 4.00000000e-01,\n",
      "       8.30000000e+00, 3.95333333e+01, 4.49000000e+01, 6.83333333e+00,\n",
      "       3.33333333e-02, 0.00000000e+00]), 'random_3dir': array([3.33333333e-02, 6.66666667e-02, 3.00000000e-01, 1.20000000e+00,\n",
      "       8.86666667e+00, 3.29333333e+01, 4.07000000e+01, 1.54333333e+01,\n",
      "       4.66666667e-01, 0.00000000e+00])}\n",
      "['g2', 'g4', 'g8', 'g16', 'g32', 'g64', 'g128', 'g256', 'g512', 'g1024']\n"
     ]
    },
    {
     "data": {
      "application/vnd.jupyter.widget-view+json": {
       "model_id": "a23e028ab10e4c3d9b1559396f0f0664",
       "version_major": 2,
       "version_minor": 0
      },
      "text/plain": [
       "FigureWidget({\n",
       "    'data': [{'name': 'max_free_space',\n",
       "              'type': 'bar',\n",
       "              'uid': '2363…"
      ]
     },
     "metadata": {},
     "output_type": "display_data"
    }
   ],
   "source": [
    "\n",
    "def bins(n):\n",
    "    bins = []\n",
    "    for i in range(n):\n",
    "        bins.append(2**(i+1))\n",
    "    return bins\n",
    "\n",
    "bar_values = { k: d['largest_hist'] for k, d in data.items() }\n",
    "max_size = max([len(x) for x in bar_values.values()])\n",
    "\n",
    "# Pad any short arrays with zeros, and normalize\n",
    "for k in bar_values.keys():\n",
    "    missing = max_size - len(bar_values[k])\n",
    "    if missing > 0:\n",
    "        bar_values[k] += [0] * missing\n",
    "    \n",
    "    bar_values[k] = np.array(bar_values[k], dtype=np.float)\n",
    "    bar_values[k] *= 100 / bar_values[k].sum()\n",
    "    \n",
    "print(bar_values)\n",
    "\n",
    "labels = [\"g\"+str(x) for x in bins(max_size)]\n",
    "\n",
    "print(labels)\n",
    "\n",
    "fig = go.FigureWidget(data=[\n",
    "    go.Bar(name=name, x=labels, y=values) \n",
    "    for name, values in bar_values.items()\n",
    "    ])\n",
    "# Change the bar mode\n",
    "fig.update_layout(barmode='group')\n",
    "#fig.show()\n",
    "# for name, d in data.items():\n",
    "#     plt.hist(d['largest_hist'], bins(len(d['largest_hist'])), label=name)\n",
    "    \n",
    "# plt.legend()"
   ]
  },
  {
   "cell_type": "code",
   "execution_count": null,
   "metadata": {},
   "outputs": [],
   "source": []
  }
 ],
 "metadata": {
  "kernelspec": {
   "display_name": "Python 3",
   "language": "python",
   "name": "python3"
  },
  "language_info": {
   "codemirror_mode": {
    "name": "ipython",
    "version": 3
   },
   "file_extension": ".py",
   "mimetype": "text/x-python",
   "name": "python",
   "nbconvert_exporter": "python",
   "pygments_lexer": "ipython3",
   "version": "3.7.4"
  }
 },
 "nbformat": 4,
 "nbformat_minor": 4
}
